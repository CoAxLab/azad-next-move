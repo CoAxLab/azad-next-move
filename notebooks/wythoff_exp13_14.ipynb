{
 "cells": [
  {
   "cell_type": "markdown",
   "metadata": {},
   "source": [
    "# Analysis - exp13 and 14\n",
    "\n",
    "Repeats of stumbler (13) and stumbler-strategist (14) exps, with optimal parameters."
   ]
  },
  {
   "cell_type": "code",
   "execution_count": null,
   "metadata": {},
   "outputs": [],
   "source": [
    "import os\n",
    "import csv\n",
    "import numpy as np\n",
    "#import torch as th\n",
    "\n",
    "from glob import glob\n",
    "from pprint import pprint\n",
    "\n",
    "import matplotlib.pyplot as plt\n",
    "%matplotlib inline\n",
    "%config InlineBackend.figure_format = 'retina'\n",
    "\n",
    "from notebook_helpers import load_monitored\n",
    "from notebook_helpers import join_monitored\n",
    "from notebook_helpers import score_summary"
   ]
  },
  {
   "cell_type": "markdown",
   "metadata": {},
   "source": [
    "# Find the files\n",
    "## Exp 13"
   ]
  },
  {
   "cell_type": "code",
   "execution_count": null,
   "metadata": {},
   "outputs": [],
   "source": [
    "path = \"/Users/Jack/Desktop/PNC/CoAx/azad-next-move/data/wythoff/exp13/\"\n",
    "#results_path = \"/Users/type/Code/azad/data/wythoff/\"\n",
    "\n",
    "files = sorted(glob(os.path.join(path, \"run_*_monitor.csv\")))\n",
    "files[:10]\n",
    "\n",
    "exp_13 = []\n",
    "for fi in files:\n",
    "    mon = load_monitored(fi)\n",
    "    exp_13.append(mon)"
   ]
  },
  {
   "cell_type": "markdown",
   "metadata": {},
   "source": [
    "## Exp 14"
   ]
  },
  {
   "cell_type": "code",
   "execution_count": null,
   "metadata": {},
   "outputs": [],
   "source": [
    "path = \"/Users/Jack/Desktop/PNC/CoAx/azad-next-move/data/wythoff/exp14/\"\n",
    "\n",
    "exp_14 = []\n",
    "runs = range(1, 3)\n",
    "for r in runs:\n",
    "    files = sorted(glob(os.path.join(path, \n",
    "        \"run_{}_episode*_stumbler*.csv\".format(int(r)))))\n",
    "    \n",
    "    mon = join_monitored(files, sort_key='episode')\n",
    "    exp_14.append(mon)"
   ]
  },
  {
   "cell_type": "code",
   "execution_count": null,
   "metadata": {},
   "outputs": [],
   "source": [
    "path = \"/Users/Jack/Desktop/PNC/CoAx/azad-next-move/data/wythoff/exp14_replay/\"\n",
    "\n",
    "exp_14_replay = []\n",
    "runs = range(1, 101)\n",
    "for r in runs:\n",
    "    files = sorted(glob(os.path.join(path, \n",
    "        \"run_{}_episode*_stumbler*.csv\".format(int(r)))))\n",
    "    \n",
    "    mon = join_monitored(files, sort_key='episode')\n",
    "    exp_14_replay.append(mon)"
   ]
  },
  {
   "cell_type": "code",
   "execution_count": null,
   "metadata": {},
   "outputs": [],
   "source": [
    "pprint(exp_13[0].keys())\n",
    "pprint(exp_14[0].keys())\n",
    "pprint(exp_14_replay[0].keys())"
   ]
  },
  {
   "cell_type": "code",
   "execution_count": null,
   "metadata": {},
   "outputs": [],
   "source": [
    "print(np.max([np.max(mon['score'][-100:-1]) for mon in exp_13]))\n",
    "print(np.max([np.max(mon['score'][-100:-1]) for mon in exp_14]))\n",
    "print(np.max([np.max(mon['score'][-100:-1]) for mon in exp_14_replay]))"
   ]
  },
  {
   "cell_type": "markdown",
   "metadata": {},
   "source": [
    "# Plots"
   ]
  },
  {
   "cell_type": "markdown",
   "metadata": {},
   "source": [
    "## Optimal play"
   ]
  },
  {
   "cell_type": "code",
   "execution_count": null,
   "metadata": {},
   "outputs": [],
   "source": [
    "plt.figure(figsize=(5, 2.5))\n",
    "\n",
    "for n, mon in enumerate(exp_13):\n",
    "    # Only want one legend entry\n",
    "    lab = None\n",
    "    if n == 0:\n",
    "        lab = \"Stumbler\"\n",
    "        \n",
    "    # Plot\n",
    "    _ = plt.plot(mon['episode'], mon['score'], \n",
    "                    color='grey', alpha=.1,  label=lab)\n",
    "\n",
    "for n, mon in enumerate(exp_14):\n",
    "    # Only want one legend entry\n",
    "    lab = None\n",
    "    if n == 0:\n",
    "        lab = \"Strategist\"\n",
    "    \n",
    "    # Plot\n",
    "    _ = plt.plot(mon['episode'], mon['score'], \n",
    "                    color='red', alpha=.1, label=lab)\n",
    "\n",
    "_ = plt.tight_layout()\n",
    "_ = plt.legend()\n",
    "_ = plt.xlabel(\"Episode\")\n",
    "_ = plt.ylabel(\"Optimal play score\")"
   ]
  },
  {
   "cell_type": "code",
   "execution_count": null,
   "metadata": {},
   "outputs": [],
   "source": [
    "episode_13,        exp_13_avg,        exp_13_SE        = score_summary(exp_13)\n",
    "episode_14,        exp_14_avg,        exp_14_SE        = score_summary(exp_14)\n",
    "episode_14_replay, exp_14_replay_avg, exp_14_replay_SE = score_summary(exp_14_replay)"
   ]
  },
  {
   "cell_type": "code",
   "execution_count": null,
   "metadata": {},
   "outputs": [],
   "source": [
    "plt.figure(figsize=(7, 2.5))\n",
    "_ = plt.plot(episode_13, exp_13_avg, linestyle=\"--\", color='grey', alpha=.5, linewidth=3, label=\"Stumbler alone\")\n",
    "_ = plt.plot(episode_14, exp_14_avg, color='red', alpha=.5, linewidth=3, label=\"with Strategist and imagination\")\n",
    "_ = plt.plot(episode_14_replay, exp_14_replay_avg, color='blue', alpha=.5, linewidth=3, label=\"with Strategist and replay\")\n",
    "_ = plt.tight_layout()\n",
    "_ = plt.legend()\n",
    "_ = plt.xlabel(\"Episode\")\n",
    "_ = plt.ylabel(\"Optimal play score\")"
   ]
  },
  {
   "cell_type": "code",
   "execution_count": null,
   "metadata": {},
   "outputs": [],
   "source": [
    "plt.figure()\n",
    "\n",
    "plt.bar(range(3), [exp_14_avg[-1], exp_14_replay_avg[-1], exp_13_avg[-1]],\n",
    "             yerr=[exp_14_SE[-1],  exp_14_replay_SE[-1],  exp_13_SE[-1] ], capsize=5)\n",
    "\n",
    "_ = plt.tight_layout()\n",
    "# _ = plt.ylim(0, 1)\n",
    "_ = plt.xlabel(\"Agent\")\n",
    "_ = plt.ylabel(\"Ending optimal move proportion\")\n",
    "_ = plt.xticks(range(3), labels = [\"stumbler-strategist\", \"stumbler-recaller\", \"stumbler alone\"])"
   ]
  },
  {
   "cell_type": "code",
   "execution_count": null,
   "metadata": {},
   "outputs": [],
   "source": [
    "plt.figure()\n",
    "\n",
    "plt.bar(range(2), [exp_14_avg[-1], exp_14_replay_avg[-1]],\n",
    "             yerr=[exp_14_SE[-1],  exp_14_replay_SE[-1] ], capsize=5)\n",
    "\n",
    "_ = plt.tight_layout()\n",
    "_ = plt.ylim(0.72, 0.79)\n",
    "_ = plt.xlabel(\"Agent\")\n",
    "_ = plt.ylabel(\"Ending optimal move proportion\")\n",
    "_ = plt.xticks(range(2), labels = [\"stumbler-strategist\", \"stumbler-recaller\"])"
   ]
  },
  {
   "cell_type": "markdown",
   "metadata": {},
   "source": [
    "## Total reward"
   ]
  },
  {
   "cell_type": "code",
   "execution_count": null,
   "metadata": {},
   "outputs": [],
   "source": [
    "plt.figure(figsize=(5, 2.5))\n",
    "\n",
    "for n, mon in enumerate(exp_13):\n",
    "    # Only want one legend entry\n",
    "    lab = None\n",
    "    if n == 0:\n",
    "        lab = \"Stumbler\"\n",
    "        \n",
    "    # Plot\n",
    "    _ = plt.plot(\n",
    "            mon['episode'], \n",
    "            np.asarray(mon['total_reward']),\n",
    "            color='grey', alpha=1,  label=lab\n",
    "    )\n",
    "\n",
    "for n, mon in enumerate(exp_14):\n",
    "    # Only want one legend entry\n",
    "    lab = None\n",
    "    if n == 0:\n",
    "        lab = \"Strategist\"\n",
    "    \n",
    "    # Plot\n",
    "    _ = plt.plot(\n",
    "            mon['episode'], \n",
    "            np.asarray(mon['total_reward']),\n",
    "            color='red', alpha=1, label=lab\n",
    "    )\n",
    "\n",
    "_ = plt.tight_layout()\n",
    "_ = plt.legend()\n",
    "_ = plt.xlabel(\"Episode\")\n",
    "_ = plt.ylabel(\"Total reward\")"
   ]
  },
  {
   "cell_type": "code",
   "execution_count": null,
   "metadata": {},
   "outputs": [],
   "source": [
    "# def load_stumbler_data(path, index_range=(0, 20)):\n",
    "#     exps = []\n",
    "#     runs = range(index_range[0], index_range[1])\n",
    "#     for r in runs:\n",
    "#         files = sorted(glob(os.path.join(path, \n",
    "#             \"run_{}_episode*_stumbler*\".format(int(r)))))\n",
    "\n",
    "#         mon = join_monitored(files, sort_key='episode')\n",
    "#         exps.append(mon)\n",
    "#     return exps"
   ]
  },
  {
   "cell_type": "code",
   "execution_count": null,
   "metadata": {},
   "outputs": [],
   "source": [
    "# path = \"/Users/Jack/Desktop/PNC/CoAx/azad-next-move/data/wythoff/exp14/\"\n",
    "# exp_14 = load_stumbler_data(path, (1, 21))\n",
    "\n",
    "# path = \"/Users/Jack/Desktop/PNC/CoAx/azad-next-move/data/wythoff/exp14_replay/\"\n",
    "# exp_14_replay = load_stumbler_data(path, (1, 21))\n",
    "\n",
    "# path = \"/Users/Jack/Desktop/PNC/CoAx/azad-next-move/data/wythoff/exp13/\"\n",
    "# exp_13 = load_stumbler_data(path, (1, 21))"
   ]
  },
  {
   "cell_type": "code",
   "execution_count": null,
   "metadata": {},
   "outputs": [],
   "source": [
    "pprint(exp_13[0].keys())\n",
    "pprint(exp_14[0].keys())\n",
    "pprint(exp_14_replay[0].keys())"
   ]
  },
  {
   "cell_type": "code",
   "execution_count": null,
   "metadata": {},
   "outputs": [],
   "source": [
    "# print(exp_14[0]['total_wins'][475:525])\n",
    "# # print(exp_14[0]['total_wins'][100])\n",
    "\n",
    "# for i in range(len(exp_14)):\n",
    "#     exp_14[i]['total_wins'] = np.array(exp_14[i]['total_wins'])\n",
    "#     add = 0\n",
    "#     for j in range(int(len(exp_14[i]['total_wins']) / 100)):\n",
    "#         exp_14[i]['total_wins'][j * 100 : (j + 1) * 100] += add\n",
    "#         add = exp_14[i]['total_wins'][((j + 1) * 100) - 1]\n",
    "\n",
    "# print(exp_14[0]['total_wins'][475:525])\n",
    "# # print(exp_14[0]['total_wins'][100])\n",
    "\n",
    "# for i in range(len(exp_14_replay)):\n",
    "#     exp_14_replay[i]['total_wins'] = np.array(exp_14_replay[i]['total_wins'])\n",
    "#     add = 0\n",
    "#     for j in range(int(len(exp_14_replay[i]['total_wins']) / 100)):\n",
    "#         exp_14_replay[i]['total_wins'][j * 100 : (j + 1) * 100] += add\n",
    "#         add = exp_14_replay[i]['total_wins'][((j + 1) * 100) - 1]\n",
    "\n",
    "        \n",
    "\n",
    "# plt.figure(figsize=(5, 2.5))\n",
    "\n",
    "# # for n, mon in enumerate(exp_13):\n",
    "# #     # Only want one legend entry\n",
    "# #     lab = None\n",
    "# #     if n == 0:\n",
    "# #         lab = \"Stumbler\"\n",
    "        \n",
    "# #     # Plot\n",
    "# #     _ = plt.plot(\n",
    "# #             mon['episode'], \n",
    "# #             np.asarray(mon['total_wins']),\n",
    "# #             color='grey', alpha=1,  label=lab\n",
    "# #     )\n",
    "\n",
    "# # for n, mon in enumerate(exp_14):\n",
    "# #     # Only want one legend entry\n",
    "# #     lab = None\n",
    "# #     if n == 0:\n",
    "# #         lab = \"Strategist\"\n",
    "    \n",
    "# #     # Plot\n",
    "# #     _ = plt.plot(\n",
    "# #             mon['episode'], \n",
    "# #             np.asarray(mon['total_wins']),\n",
    "# #             color='red', alpha=1, label=lab\n",
    "# #     )\n",
    "\n",
    "# # _ = plt.tight_layout()\n",
    "# # _ = plt.legend()\n",
    "# # _ = plt.xlabel(\"Episode\")\n",
    "# # _ = plt.ylabel(\"Total wins\")\n",
    "# # _ = plt.xlim(400,600)\n",
    "# # _ = plt.ylim(0,1000)"
   ]
  },
  {
   "cell_type": "code",
   "execution_count": null,
   "metadata": {},
   "outputs": [],
   "source": [
    "episode_13,        exp_13_avg,        exp_13_SE        = score_summary(exp_13,        key=\"total_reward\")\n",
    "episode_14,        exp_14_avg,        exp_14_SE        = score_summary(exp_14,        key=\"total_reward\")\n",
    "episode_14_replay, exp_14_replay_avg, exp_14_replay_SE = score_summary(exp_14_replay, key=\"total_reward\")"
   ]
  },
  {
   "cell_type": "code",
   "execution_count": null,
   "metadata": {},
   "outputs": [],
   "source": [
    "plt.figure()\n",
    "\n",
    "plt.bar(range(3), [exp_14_avg[-1], exp_14_replay_avg[-1], exp_13_avg[-1]],\n",
    "             yerr=[exp_14_SE[-1],  exp_14_replay_SE[-1],  exp_13_SE[-1] ], capsize=5)\n",
    "\n",
    "_ = plt.tight_layout()\n",
    "# _ = plt.ylim(0, 1)\n",
    "_ = plt.xlabel(\"Agent\")\n",
    "_ = plt.ylabel(\"Cumulative reward\")\n",
    "_ = plt.xticks(range(3), labels = [\"stumbler-strategist\", \"stumbler-recaller\", \"stumbler\"])"
   ]
  },
  {
   "cell_type": "code",
   "execution_count": null,
   "metadata": {},
   "outputs": [],
   "source": [
    "plt.figure()\n",
    "\n",
    "plt.bar(range(3), [exp_14_avg[-1], exp_14_replay_avg[-1], exp_13_avg[-1]],\n",
    "             yerr=[exp_14_SE[-1],  exp_14_replay_SE[-1],  exp_13_SE[-1] ], capsize=5)\n",
    "\n",
    "_ = plt.tight_layout()\n",
    "_ = plt.ylim(68000, 71000)\n",
    "_ = plt.xlabel(\"Agent\")\n",
    "_ = plt.ylabel(\"Cumulative reward\")\n",
    "_ = plt.xticks(range(3), labels = [\"stumbler-strategist\", \"stumbler-recaller\", \"stumbler\"])"
   ]
  },
  {
   "cell_type": "code",
   "execution_count": null,
   "metadata": {},
   "outputs": [],
   "source": [
    "plt.figure()\n",
    "\n",
    "plt.bar(range(3), [exp_14_avg[-1]        / max(episode_14),\n",
    "                   exp_14_replay_avg[-1] / max(episode_14_replay),\n",
    "                   exp_13_avg[-1]        / max(episode_13)],\n",
    "        yerr=[exp_14_SE[-1]        / max(episode_14),\n",
    "              exp_14_replay_SE[-1] / max(episode_14_replay),\n",
    "              exp_13_SE[-1]        / max(episode_13)],\n",
    "        capsize=5)\n",
    "\n",
    "_ = plt.tight_layout()\n",
    "# _ = plt.ylim(0, 1)\n",
    "_ = plt.xlabel(\"Agent\")\n",
    "_ = plt.ylabel(\"Average reward per game\")\n",
    "_ = plt.xticks(range(3), labels = [\"stumbler-strategist\", \"stumbler-recaller\", \"stumbler\"])"
   ]
  },
  {
   "cell_type": "code",
   "execution_count": null,
   "metadata": {},
   "outputs": [],
   "source": [
    "plt.figure()\n",
    "\n",
    "plt.bar(range(3), [exp_14_avg[-1]        / max(episode_14),\n",
    "                   exp_14_replay_avg[-1] / max(episode_14_replay),\n",
    "                   exp_13_avg[-1]        / max(episode_13)],\n",
    "        yerr=[exp_14_SE[-1]        / max(episode_14),\n",
    "              exp_14_replay_SE[-1] / max(episode_14_replay),\n",
    "              exp_13_SE[-1]        / max(episode_13)],\n",
    "        capsize=5)\n",
    "\n",
    "_ = plt.tight_layout()\n",
    "_ = plt.ylim(0.9, 0.96)\n",
    "_ = plt.xlabel(\"Agent\")\n",
    "_ = plt.ylabel(\"Average reward per game\")\n",
    "_ = plt.xticks(range(3), labels = [\"stumbler-strategist\", \"stumbler-recaller\", \"stumbler\"])"
   ]
  },
  {
   "cell_type": "code",
   "execution_count": null,
   "metadata": {},
   "outputs": [],
   "source": [
    "episode_13,        exp_13_avg,        exp_13_SE        = score_summary(exp_13,        key=\"total_wins\")\n",
    "episode_14,        exp_14_avg,        exp_14_SE        = score_summary(exp_14,        key=\"total_wins\")\n",
    "episode_14_replay, exp_14_replay_avg, exp_14_replay_SE = score_summary(exp_14_replay, key=\"total_wins\")"
   ]
  },
  {
   "cell_type": "code",
   "execution_count": null,
   "metadata": {},
   "outputs": [],
   "source": [
    "plt.figure()\n",
    "\n",
    "plt.bar(range(3), [exp_14_avg[-1], exp_14_replay_avg[-1], exp_13_avg[-1]],\n",
    "             yerr=[exp_14_SE[-1],  exp_14_replay_SE[-1],  exp_13_SE[-1] ], capsize=5)\n",
    "\n",
    "_ = plt.tight_layout()\n",
    "# _ = plt.ylim(0, 1)\n",
    "_ = plt.xlabel(\"Agent\")\n",
    "_ = plt.ylabel(\"Cumulative games won\")\n",
    "_ = plt.xticks(range(3), labels = [\"stumbler-strategist\", \"stumbler-recaller\", \"stumbler\"])"
   ]
  },
  {
   "cell_type": "code",
   "execution_count": null,
   "metadata": {},
   "outputs": [],
   "source": [
    "plt.figure()\n",
    "plt.plot(episode_14, exp_14_avg)\n",
    "\n",
    "_ = plt.tight_layout()\n",
    "# _ = plt.legend()\n",
    "_ = plt.xlabel(\"Episode\")\n",
    "_ = plt.ylabel(\"Total wins\")\n",
    "# _ = plt.xlim(400,600)\n",
    "# _ = plt.ylim(0,1000)"
   ]
  },
  {
   "cell_type": "code",
   "execution_count": null,
   "metadata": {},
   "outputs": [],
   "source": [
    "path = \"/Users/Jack/Desktop/PNC/CoAx/azad-next-move/data/wythoff/exp14/\"\n",
    "\n",
    "exp_14 = []\n",
    "runs = range(1, 21)\n",
    "for r in runs:\n",
    "    files = sorted(glob(os.path.join(path, \n",
    "        \"run_{}_episode*_strategist*.csv\".format(int(r)))))\n",
    "    \n",
    "    mon = join_monitored(files, sort_key='episode')\n",
    "    exp_14.append(mon)"
   ]
  },
  {
   "cell_type": "code",
   "execution_count": null,
   "metadata": {},
   "outputs": [],
   "source": [
    "pprint(exp_14[0].keys())"
   ]
  },
  {
   "cell_type": "code",
   "execution_count": null,
   "metadata": {},
   "outputs": [],
   "source": [
    "plt.figure(figsize=(5, 2.5))\n",
    "\n",
    "for n, mon in enumerate(exp_14):\n",
    "    # Only want one legend entry\n",
    "    lab = None\n",
    "    if n == 0:\n",
    "        lab = \"Strategist\"\n",
    "    \n",
    "    # Plot\n",
    "    _ = plt.plot(mon['episode'], mon['mae_euclid'], \n",
    "                    color='red', alpha=.1, label=lab)\n",
    "\n",
    "_ = plt.tight_layout()\n",
    "_ = plt.legend()\n",
    "_ = plt.xlabel(\"Episode\")\n",
    "_ = plt.ylabel(\"mae_euclid\")"
   ]
  },
  {
   "cell_type": "code",
   "execution_count": null,
   "metadata": {},
   "outputs": [],
   "source": [
    "episode_14_euc, exp_14_avg_euc, _ = score_summary(exp_14, key='mae_euclid')"
   ]
  },
  {
   "cell_type": "code",
   "execution_count": null,
   "metadata": {},
   "outputs": [],
   "source": [
    "plt.figure(figsize=(7, 2.5))\n",
    "_ = plt.plot(episode_14_euc, exp_14_avg_euc, color='red', alpha=.5, linewidth=3, label=\"Strategist\")\n",
    "_ = plt.tight_layout()\n",
    "_ = plt.legend()\n",
    "_ = plt.xlabel(\"Episode\")\n",
    "_ = plt.ylabel(\"mae_euclid\")"
   ]
  },
  {
   "cell_type": "code",
   "execution_count": null,
   "metadata": {},
   "outputs": [],
   "source": [
    "plt.figure(figsize=(5, 2.5))\n",
    "\n",
    "for n, mon in enumerate(exp_14):\n",
    "    # Only want one legend entry\n",
    "    lab = None\n",
    "    if n == 0:\n",
    "        lab = \"Strategist\"\n",
    "    \n",
    "    # Plot\n",
    "    _ = plt.plot(mon['episode'], mon['mae'], \n",
    "                    color='red', alpha=.1, label=lab)\n",
    "\n",
    "_ = plt.tight_layout()\n",
    "_ = plt.legend()\n",
    "_ = plt.xlabel(\"Episode\")\n",
    "_ = plt.ylabel(\"mae\")"
   ]
  },
  {
   "cell_type": "code",
   "execution_count": null,
   "metadata": {},
   "outputs": [],
   "source": [
    "episode_14, exp_14_avg, _ = score_summary(exp_14, key='mae')"
   ]
  },
  {
   "cell_type": "code",
   "execution_count": null,
   "metadata": {},
   "outputs": [],
   "source": [
    "plt.figure(figsize=(7, 2.5))\n",
    "_ = plt.plot(episode_14, exp_14_avg, color='red', alpha=.5, linewidth=3, label=\"Strategist\")\n",
    "_ = plt.tight_layout()\n",
    "_ = plt.legend()\n",
    "_ = plt.xlabel(\"Episode\")\n",
    "_ = plt.ylabel(\"mae\")"
   ]
  },
  {
   "cell_type": "code",
   "execution_count": null,
   "metadata": {},
   "outputs": [],
   "source": [
    "plt.figure(figsize=(7, 2.5))\n",
    "\n",
    "_ = plt.plot(episode_14_euc, exp_14_avg_euc, color='green', alpha=.5, linewidth=3, label=\"mae_euclid\")\n",
    "_ = plt.tight_layout()\n",
    "_ = plt.legend()\n",
    "_ = plt.xlabel(\"Episode\")\n",
    "# _ = plt.ylabel(\"mae_euclid\")\n",
    "\n",
    "_ = plt.plot(episode_14, exp_14_avg, color='purple', alpha=.5, linewidth=3, label=\"mae_wythoff's\")\n",
    "_ = plt.tight_layout()\n",
    "_ = plt.legend()\n",
    "_ = plt.xlabel(\"Episode\")\n",
    "_ = plt.ylabel(\"mae\")"
   ]
  },
  {
   "cell_type": "code",
   "execution_count": null,
   "metadata": {},
   "outputs": [],
   "source": [
    "max(episode_14)"
   ]
  },
  {
   "cell_type": "code",
   "execution_count": null,
   "metadata": {},
   "outputs": [],
   "source": []
  }
 ],
 "metadata": {
  "kernelspec": {
   "display_name": "Python 3 (ipykernel)",
   "language": "python",
   "name": "python3"
  },
  "language_info": {
   "codemirror_mode": {
    "name": "ipython",
    "version": 3
   },
   "file_extension": ".py",
   "mimetype": "text/x-python",
   "name": "python",
   "nbconvert_exporter": "python",
   "pygments_lexer": "ipython3",
   "version": "3.8.16"
  }
 },
 "nbformat": 4,
 "nbformat_minor": 2
}
